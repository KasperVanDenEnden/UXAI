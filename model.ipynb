{
 "cells": [
  {
   "cell_type": "code",
   "execution_count": 12,
   "id": "e0fdcb85",
   "metadata": {},
   "outputs": [],
   "source": [
    "import numpy as np\n",
    "import pandas as pd\n",
    "import tensorflow as tf\n",
    "from sklearn.model_selection import train_test_split\n",
    "from sklearn.preprocessing import StandardScaler"
   ]
  },
  {
   "cell_type": "markdown",
   "id": "0e07c448",
   "metadata": {},
   "source": [
    "### PREPERATIONS"
   ]
  },
  {
   "cell_type": "code",
   "execution_count": 13,
   "id": "8a559150",
   "metadata": {},
   "outputs": [],
   "source": [
    "file_name = 'hair_problem.csv' # Pas dit pad aan!\n",
    "\n",
    "try:\n",
    "    df = pd.read_csv(file_name)\n",
    "except FileNotFoundError:\n",
    "    print(f\"Fout: Bestand '{file_name}' niet gevonden. Pas het pad aan.\")\n",
    "    exit()"
   ]
  },
  {
   "cell_type": "code",
   "execution_count": 19,
   "id": "7d0abe04",
   "metadata": {},
   "outputs": [
    {
     "data": {
      "text/html": [
       "<div>\n",
       "<style scoped>\n",
       "    .dataframe tbody tr th:only-of-type {\n",
       "        vertical-align: middle;\n",
       "    }\n",
       "\n",
       "    .dataframe tbody tr th {\n",
       "        vertical-align: top;\n",
       "    }\n",
       "\n",
       "    .dataframe thead th {\n",
       "        text-align: right;\n",
       "    }\n",
       "</style>\n",
       "<table border=\"1\" class=\"dataframe\">\n",
       "  <thead>\n",
       "    <tr style=\"text-align: right;\">\n",
       "      <th></th>\n",
       "      <th>age</th>\n",
       "      <th>gender</th>\n",
       "      <th>hair_fall</th>\n",
       "      <th>family_history</th>\n",
       "      <th>chronic_illness</th>\n",
       "      <th>late_night</th>\n",
       "      <th>sleep_disturbance</th>\n",
       "      <th>water_reason</th>\n",
       "      <th>hair_chemicals</th>\n",
       "      <th>anemia</th>\n",
       "      <th>stress</th>\n",
       "      <th>food_habit</th>\n",
       "    </tr>\n",
       "  </thead>\n",
       "  <tbody>\n",
       "    <tr>\n",
       "      <th>0</th>\n",
       "      <td>22</td>\n",
       "      <td>Male</td>\n",
       "      <td>Yes</td>\n",
       "      <td>Yes</td>\n",
       "      <td>Yes</td>\n",
       "      <td>Yes</td>\n",
       "      <td>No</td>\n",
       "      <td>No</td>\n",
       "      <td>No</td>\n",
       "      <td>Yes</td>\n",
       "      <td>Yes</td>\n",
       "      <td>Both</td>\n",
       "    </tr>\n",
       "    <tr>\n",
       "      <th>1</th>\n",
       "      <td>18</td>\n",
       "      <td>Male</td>\n",
       "      <td>No</td>\n",
       "      <td>No</td>\n",
       "      <td>No</td>\n",
       "      <td>No</td>\n",
       "      <td>No</td>\n",
       "      <td>Yes</td>\n",
       "      <td>Yes</td>\n",
       "      <td>No</td>\n",
       "      <td>No</td>\n",
       "      <td>Both</td>\n",
       "    </tr>\n",
       "    <tr>\n",
       "      <th>2</th>\n",
       "      <td>25</td>\n",
       "      <td>Male</td>\n",
       "      <td>Yes</td>\n",
       "      <td>Yes</td>\n",
       "      <td>Yes</td>\n",
       "      <td>No</td>\n",
       "      <td>No</td>\n",
       "      <td>Yes</td>\n",
       "      <td>No</td>\n",
       "      <td>No</td>\n",
       "      <td>Yes</td>\n",
       "      <td>Both</td>\n",
       "    </tr>\n",
       "    <tr>\n",
       "      <th>3</th>\n",
       "      <td>17</td>\n",
       "      <td>Male</td>\n",
       "      <td>No</td>\n",
       "      <td>No</td>\n",
       "      <td>No</td>\n",
       "      <td>Yes</td>\n",
       "      <td>No</td>\n",
       "      <td>Yes</td>\n",
       "      <td>No</td>\n",
       "      <td>Yes</td>\n",
       "      <td>Yes</td>\n",
       "      <td>Both</td>\n",
       "    </tr>\n",
       "    <tr>\n",
       "      <th>4</th>\n",
       "      <td>28</td>\n",
       "      <td>Male</td>\n",
       "      <td>No</td>\n",
       "      <td>Yes</td>\n",
       "      <td>Yes</td>\n",
       "      <td>Yes</td>\n",
       "      <td>No</td>\n",
       "      <td>Yes</td>\n",
       "      <td>No</td>\n",
       "      <td>Yes</td>\n",
       "      <td>Yes</td>\n",
       "      <td>Nutritious</td>\n",
       "    </tr>\n",
       "  </tbody>\n",
       "</table>\n",
       "</div>"
      ],
      "text/plain": [
       "   age gender hair_fall family_history chronic_illness late_night  \\\n",
       "0   22   Male       Yes            Yes             Yes        Yes   \n",
       "1   18   Male        No             No              No         No   \n",
       "2   25   Male       Yes            Yes             Yes         No   \n",
       "3   17   Male        No             No              No        Yes   \n",
       "4   28   Male        No            Yes             Yes        Yes   \n",
       "\n",
       "  sleep_disturbance water_reason hair_chemicals anemia stress  food_habit  \n",
       "0                No           No             No    Yes    Yes        Both  \n",
       "1                No          Yes            Yes     No     No        Both  \n",
       "2                No          Yes             No     No    Yes        Both  \n",
       "3                No          Yes             No    Yes    Yes        Both  \n",
       "4                No          Yes             No    Yes    Yes  Nutritious  "
      ]
     },
     "execution_count": 19,
     "metadata": {},
     "output_type": "execute_result"
    }
   ],
   "source": [
    "df.rename(columns={\n",
    "    \"Timestamp\": \"timestamp\",\n",
    "    \"What is your name ?\": \"name\",\n",
    "    \"What is your age ?\": \"age\",\n",
    "    \"What is your gender ?\": \"gender\",\n",
    "    \"Do you have hair fall problem ?\": \"hair_fall\",\n",
    "    \"Is there anyone in your family having a hair fall problem or a baldness issue?\": \"family_history\",\n",
    "    \"Did you face any type of chronic illness in the past?\": \"chronic_illness\",\n",
    "    \"Do you stay up late at night?\": \"late_night\",\n",
    "    \"Do you have any type of sleep disturbance?\": \"sleep_disturbance\",\n",
    "    \"Do you think that in your area water is a reason behind hair fall problems?\": \"water_reason\",\n",
    "    \"Do you use chemicals, hair gel, or color in your hair?\": \"hair_chemicals\",\n",
    "    \"Do you have anemia?\": \"anemia\",\n",
    "    \"Do you have too much stress\": \"stress\",\n",
    "    \"What is your food habit\": \"food_habit\"\n",
    "}, inplace=True)\n",
    "df.head()"
   ]
  },
  {
   "cell_type": "code",
   "execution_count": 20,
   "id": "f6dcf4f6",
   "metadata": {},
   "outputs": [
    {
     "name": "stdout",
     "output_type": "stream",
     "text": [
      "  stress water_reason sleep_disturbance hair_chemicals family_history\n",
      "0    Yes           No                No             No            Yes\n",
      "1     No          Yes                No            Yes             No\n",
      "2    Yes          Yes                No             No            Yes\n",
      "3    Yes          Yes                No             No             No\n",
      "4    Yes          Yes                No             No            Yes\n",
      "  hair_fall\n",
      "0       Yes\n",
      "1        No\n",
      "2       Yes\n",
      "3        No\n",
      "4        No\n"
     ]
    }
   ],
   "source": [
    "target = ['hair_fall']\n",
    "features = ['stress', 'water_reason', 'sleep_disturbance', 'hair_chemicals', 'family_history']\n",
    "\n",
    "X = df[features]\n",
    "y = df[target]\n",
    "\n",
    "print(X.head())\n",
    "print(y.head())"
   ]
  },
  {
   "cell_type": "code",
   "execution_count": 21,
   "id": "6be41a99",
   "metadata": {},
   "outputs": [],
   "source": [
    "def map_yes_no(value):\n",
    "    return 1 if value == 'Yes' else 0\n",
    "\n",
    "for col in features:\n",
    "    if col in X.columns:\n",
    "        X.loc[:, col] = X[col].apply(map_yes_no).astype(np.float32) # Gebruik float32 voor TF\n",
    "y = df['hair_fall'].apply(map_yes_no).astype(np.float32)\n"
   ]
  },
  {
   "cell_type": "code",
   "execution_count": 22,
   "id": "5cb77f2a",
   "metadata": {},
   "outputs": [
    {
     "name": "stdout",
     "output_type": "stream",
     "text": [
      "  stress water_reason sleep_disturbance hair_chemicals family_history\n",
      "0    1.0          0.0               0.0            0.0            1.0\n",
      "1    0.0          1.0               0.0            1.0            0.0\n",
      "2    1.0          1.0               0.0            0.0            1.0\n",
      "3    1.0          1.0               0.0            0.0            0.0\n",
      "4    1.0          1.0               0.0            0.0            1.0\n",
      "0    1.0\n",
      "1    0.0\n",
      "2    1.0\n",
      "3    0.0\n",
      "4    0.0\n",
      "Name: hair_fall, dtype: float32\n"
     ]
    }
   ],
   "source": [
    "print(X.head())\n",
    "print(y.head())"
   ]
  },
  {
   "cell_type": "code",
   "execution_count": 23,
   "id": "9da24697",
   "metadata": {},
   "outputs": [
    {
     "name": "stdout",
     "output_type": "stream",
     "text": [
      "✅ Data Voorbereid.\n"
     ]
    }
   ],
   "source": [
    "# Splits de data\n",
    "X_train, X_test, y_train, y_test = train_test_split(\n",
    "    X, y, test_size=0.2, random_state=42\n",
    ")\n",
    "\n",
    "# Normaliseer de features\n",
    "scaler = StandardScaler()\n",
    "X_train = scaler.fit_transform(X_train)\n",
    "X_test = scaler.transform(X_test)   \n",
    "# Converteer naar numpy arrays\n",
    "X_train_np = np.array(X_train)\n",
    "y_train_np = np.array(y_train)\n",
    "X_test_np = np.array(X_test)\n",
    "y_test_np = np.array(y_test)\n",
    "print(\"✅ Data Voorbereid.\")"
   ]
  },
  {
   "cell_type": "markdown",
   "id": "3d87a198",
   "metadata": {},
   "source": [
    "### Model"
   ]
  },
  {
   "cell_type": "code",
   "execution_count": 24,
   "id": "f4725400",
   "metadata": {},
   "outputs": [
    {
     "name": "stdout",
     "output_type": "stream",
     "text": [
      "\n",
      "Keras Model Samenvatting:\n",
      "Model: \"sequential\"\n",
      "_________________________________________________________________\n",
      " Layer (type)                Output Shape              Param #   \n",
      "=================================================================\n",
      " logistic_output (Dense)     (None, 1)                 6         \n",
      "                                                                 \n",
      "=================================================================\n",
      "Total params: 6 (24.00 Byte)\n",
      "Trainable params: 6 (24.00 Byte)\n",
      "Non-trainable params: 0 (0.00 Byte)\n",
      "_________________________________________________________________\n"
     ]
    }
   ],
   "source": [
    "num_features = len(features)\n",
    "\n",
    "model = tf.keras.Sequential([\n",
    "    tf.keras.layers.InputLayer(input_shape=(num_features,)),\n",
    "    tf.keras.layers.Dense(1, activation='sigmoid', name='logistic_output')\n",
    "])\n",
    "\n",
    "# Logistische Regressie gebruikt Binary Crossentropy\n",
    "model.compile(\n",
    "    optimizer='adam',\n",
    "    loss='binary_crossentropy',\n",
    "    metrics=['accuracy']\n",
    ")\n",
    "\n",
    "print(\"\\nKeras Model Samenvatting:\")\n",
    "model.summary()"
   ]
  },
  {
   "cell_type": "code",
   "execution_count": 25,
   "id": "0afcd9c4",
   "metadata": {},
   "outputs": [
    {
     "name": "stdout",
     "output_type": "stream",
     "text": [
      "\n",
      "Training Keras Model...\n",
      "✅ Keras Model Getraind.\n"
     ]
    }
   ],
   "source": [
    "print(\"\\nTraining Keras Model...\")\n",
    "model.fit(\n",
    "    X_train_np,\n",
    "    y_train_np,\n",
    "    epochs=50,\n",
    "    batch_size=32,\n",
    "    verbose=0\n",
    ")\n",
    "print(\"✅ Keras Model Getraind.\")\n",
    "model.save('hair_fall_model_tf.keras')"
   ]
  },
  {
   "cell_type": "code",
   "execution_count": 26,
   "id": "4fce6592",
   "metadata": {},
   "outputs": [
    {
     "name": "stderr",
     "output_type": "stream",
     "text": [
      "Could not search for non-variable resources. Concrete function internal representation may have changed.\n"
     ]
    },
    {
     "name": "stdout",
     "output_type": "stream",
     "text": [
      "✅ Model geconverteerd naar ONNX-formaat.\n"
     ]
    }
   ],
   "source": [
    "import tf2onnx\n",
    "import onnx\n",
    "import tensorflow as tf\n",
    "\n",
    "model = tf.keras.models.load_model('hair_fall_model_tf.keras')\n",
    "\n",
    "onnx_model, _ = tf2onnx.convert.from_keras(model)\n",
    "onnx.save(onnx_model, 'hair_fall_model.onnx')\n",
    "\n",
    "print(\"✅ Model geconverteerd naar ONNX-formaat.\")"
   ]
  },
  {
   "cell_type": "code",
   "execution_count": null,
   "id": "85ca698b",
   "metadata": {},
   "outputs": [
    {
     "name": "stdout",
     "output_type": "stream",
     "text": [
      "\n",
      "Model Weights:\n",
      "Layer 0 weights:\n",
      "[[0.773751  ]\n",
      " [0.23789515]\n",
      " [0.3901703 ]\n",
      " [0.6359475 ]\n",
      " [0.64180905]]\n",
      "Layer 1 weights:\n",
      "[0.611417]\n"
     ]
    }
   ],
   "source": [
    "weights = model.get_weights()\n",
    "print(\"\\nModel Weights:\")\n",
    "for i, w in enumerate(weights):\n",
    "    print(f\"Layer {i} weights:\")\n",
    "    print(w)\n",
    "\n",
    "weights_data = {\n",
    "    'coefficients': weights[0].flatten().tolist(),\n",
    "    'bias': float(weights[1][0]),\n",
    "    'feature_names': features\n",
    "}\n",
    "\n",
    "with open('model_weights.json', 'w') as f:\n",
    "    import json\n",
    "    json.dump(weights_data, f, indent=2)    "
   ]
  },
  {
   "cell_type": "code",
   "execution_count": 2,
   "id": "6c1b5b44",
   "metadata": {},
   "outputs": [
    {
     "name": "stdout",
     "output_type": "stream",
     "text": [
      "TensorFlow: 2.13.0\n",
      "tf2onnx: 1.15.1\n",
      "NumPy: 1.24.3\n"
     ]
    }
   ],
   "source": [
    "# import tf2onnx\n",
    "# import onnx\n",
    "# import tensorflow as tf\n",
    "# import numpy as np\n",
    "\n",
    "# print(\"TensorFlow:\", tf.__version__)\n",
    "# print(\"tf2onnx:\", tf2onnx.__version__)\n",
    "# print(\"NumPy:\", np.__version__)"
   ]
  }
 ],
 "metadata": {
  "kernelspec": {
   "display_name": "onnx_env",
   "language": "python",
   "name": "python3"
  },
  "language_info": {
   "codemirror_mode": {
    "name": "ipython",
    "version": 3
   },
   "file_extension": ".py",
   "mimetype": "text/x-python",
   "name": "python",
   "nbconvert_exporter": "python",
   "pygments_lexer": "ipython3",
   "version": "3.10.19"
  }
 },
 "nbformat": 4,
 "nbformat_minor": 5
}
